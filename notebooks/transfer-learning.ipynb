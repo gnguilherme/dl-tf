{
 "cells": [
  {
   "cell_type": "code",
   "execution_count": 1,
   "source": [
    "import tensorflow as tf\r\n",
    "from tensorflow.keras.applications.mobilenet_v2 import MobileNetV2\r\n",
    "mnet = MobileNetV2(input_shape=(224, 224, 3), include_top=False, alpha=1)  # para controlar o tamanho da rede, pode mudar o parâmetro alpha\r\n",
    "mnet"
   ],
   "outputs": [
    {
     "output_type": "execute_result",
     "data": {
      "text/plain": [
       "<keras.engine.functional.Functional at 0x26a5b7ab588>"
      ]
     },
     "metadata": {},
     "execution_count": 1
    }
   ],
   "metadata": {}
  },
  {
   "cell_type": "code",
   "execution_count": 2,
   "source": [
    "import tensorflow_datasets as tfds\r\n",
    "tfds.disable_progress_bar()\r\n",
    "\r\n",
    "dataset, metadata = tfds.load('beans', as_supervised=True, with_info=True)\r\n",
    "train_dataset = dataset['train']\r\n",
    "validation_dataset = dataset['validation']\r\n",
    "test_dataset = dataset['test']\r\n",
    "\r\n",
    "class_names = metadata.features['label'].names\r\n",
    "print(\"Class names: {}\".format(class_names))"
   ],
   "outputs": [
    {
     "output_type": "stream",
     "name": "stdout",
     "text": [
      "Class names: ['angular_leaf_spot', 'bean_rust', 'healthy']\n"
     ]
    }
   ],
   "metadata": {}
  },
  {
   "cell_type": "code",
   "execution_count": 3,
   "source": [
    "def normalize(images, labels):\r\n",
    "    images = tf.cast(images, tf.float32)\r\n",
    "    images /= 255\r\n",
    "    return images, labels\r\n",
    "\r\n",
    "def resize(images, labels):\r\n",
    "    images = tf.image.resize(images, size=(224, 224))\r\n",
    "    labels = tf.one_hot(labels, len(class_names))\r\n",
    "\r\n",
    "    return images, labels\r\n",
    "\r\n",
    "def transform_images(images, labels):\r\n",
    "    images, labels = resize(images, labels)\r\n",
    "    images, labels = normalize(images, labels)\r\n",
    "\r\n",
    "    return images, labels\r\n",
    "\r\n",
    "train_dataset =  train_dataset.map(transform_images)\r\n",
    "validation_dataset =  validation_dataset.map(transform_images)\r\n",
    "test_dataset =  test_dataset.map(transform_images)\r\n",
    "\r\n",
    "train_dataset =  train_dataset.cache()\r\n",
    "validation_dataset =  validation_dataset.cache()\r\n",
    "test_dataset =  test_dataset.cache()"
   ],
   "outputs": [],
   "metadata": {}
  },
  {
   "cell_type": "code",
   "execution_count": 4,
   "source": [
    "for image, labels in train_dataset.take(1):\r\n",
    "    break\r\n",
    "pred = mnet(tf.expand_dims(image, 0))\r\n",
    "pred.shape"
   ],
   "outputs": [
    {
     "output_type": "execute_result",
     "data": {
      "text/plain": [
       "TensorShape([1, 7, 7, 1280])"
      ]
     },
     "metadata": {},
     "execution_count": 4
    }
   ],
   "metadata": {}
  },
  {
   "cell_type": "code",
   "execution_count": 5,
   "source": [
    "from tensorflow.keras.layers import GlobalAveragePooling2D, Dense, Dropout\r\n",
    "mnet.trainable = False\r\n",
    "gap = GlobalAveragePooling2D()\r\n",
    "dropout = Dropout(rate=0.25)\r\n",
    "fc1 = Dense(units=len(class_names), activation=tf.nn.softmax)\r\n",
    "layers =[\r\n",
    "    mnet,  # feature extractor\r\n",
    "    gap,  # no lugar do flatten, utilizamos GAP\r\n",
    "    dropout,\r\n",
    "    fc1,\r\n",
    "]\r\n",
    "model = tf.keras.models.Sequential(layers)\r\n",
    "model.summary()"
   ],
   "outputs": [
    {
     "output_type": "stream",
     "name": "stdout",
     "text": [
      "Model: \"sequential\"\n",
      "_________________________________________________________________\n",
      "Layer (type)                 Output Shape              Param #   \n",
      "=================================================================\n",
      "mobilenetv2_1.00_224 (Functi (None, 7, 7, 1280)        2257984   \n",
      "_________________________________________________________________\n",
      "global_average_pooling2d (Gl (None, 1280)              0         \n",
      "_________________________________________________________________\n",
      "dropout (Dropout)            (None, 1280)              0         \n",
      "_________________________________________________________________\n",
      "dense (Dense)                (None, 3)                 3843      \n",
      "=================================================================\n",
      "Total params: 2,261,827\n",
      "Trainable params: 3,843\n",
      "Non-trainable params: 2,257,984\n",
      "_________________________________________________________________\n"
     ]
    }
   ],
   "metadata": {}
  },
  {
   "cell_type": "code",
   "execution_count": 6,
   "source": [
    "model.compile(\r\n",
    "    optimizer='adam',\r\n",
    "    loss='categorical_crossentropy',\r\n",
    "    metrics=['accuracy']\r\n",
    ")"
   ],
   "outputs": [],
   "metadata": {}
  },
  {
   "cell_type": "code",
   "execution_count": 7,
   "source": [
    "import numpy as np\r\n",
    "\r\n",
    "BATCH_SIZE = 32\r\n",
    "\r\n",
    "num_train_examples = metadata.splits['train'].num_examples\r\n",
    "num_validation_examples = metadata.splits['validation'].num_examples\r\n",
    "num_test_examples = metadata.splits['test'].num_examples\r\n",
    "\r\n",
    "train_dataset = train_dataset \\\r\n",
    "    .cache() \\\r\n",
    "    .repeat() \\\r\n",
    "    .shuffle(num_train_examples) \\\r\n",
    "    .batch(BATCH_SIZE)\r\n",
    "\r\n",
    "validation_dataset = validation_dataset \\\r\n",
    "    .cache() \\\r\n",
    "    .repeat() \\\r\n",
    "    .shuffle(num_validation_examples) \\\r\n",
    "    .batch(BATCH_SIZE)"
   ],
   "outputs": [],
   "metadata": {}
  },
  {
   "cell_type": "code",
   "execution_count": 8,
   "source": [
    "history = model.fit(\r\n",
    "    train_dataset, epochs=10,\r\n",
    "    steps_per_epoch=np.ceil(num_train_examples/BATCH_SIZE),\r\n",
    "    validation_data=validation_dataset,\r\n",
    "    validation_steps=np.ceil(num_validation_examples/BATCH_SIZE),\r\n",
    "    workers=-1,\r\n",
    ")\r\n",
    "\r\n",
    "import matplotlib.pyplot as plt\r\n",
    "\r\n",
    "fig, ax = plt.subplots(1, 2, figsize=(8, 6))\r\n",
    "ax[0].plot(history.history['loss'], label='loss')\r\n",
    "ax[0].plot(history.history['val_loss'], label='val loss')\r\n",
    "ax[0].legend(frameon=False)\r\n",
    "ax[1].plot(history.history['accuracy'], label='acc')\r\n",
    "ax[1].plot(history.history['val_accuracy'], label='val acc')\r\n",
    "ax[1].legend(frameon=False)\r\n",
    "fig.suptitle(\"Training loss and acc\", fontweight='bold', fontsize=14);"
   ],
   "outputs": [
    {
     "output_type": "stream",
     "name": "stdout",
     "text": [
      "Epoch 1/10\n",
      "33/33 [==============================] - 48s 1s/step - loss: 0.7971 - accuracy: 0.6562 - val_loss: 0.5435 - val_accuracy: 0.7688\n",
      "Epoch 2/10\n",
      "33/33 [==============================] - 38s 1s/step - loss: 0.5297 - accuracy: 0.7746 - val_loss: 0.3683 - val_accuracy: 0.8250\n",
      "Epoch 3/10\n",
      "33/33 [==============================] - 37s 1s/step - loss: 0.4134 - accuracy: 0.8295 - val_loss: 0.3774 - val_accuracy: 0.8500\n",
      "Epoch 4/10\n",
      "33/33 [==============================] - 33s 986ms/step - loss: 0.3506 - accuracy: 0.8570 - val_loss: 0.2919 - val_accuracy: 0.9062\n",
      "Epoch 5/10\n",
      "33/33 [==============================] - 32s 978ms/step - loss: 0.3234 - accuracy: 0.8911 - val_loss: 0.2671 - val_accuracy: 0.9250\n",
      "Epoch 6/10\n",
      "33/33 [==============================] - 36s 1s/step - loss: 0.2893 - accuracy: 0.8883 - val_loss: 0.2151 - val_accuracy: 0.9250\n",
      "Epoch 7/10\n",
      "33/33 [==============================] - 32s 960ms/step - loss: 0.2503 - accuracy: 0.9025 - val_loss: 0.2888 - val_accuracy: 0.9125\n",
      "Epoch 8/10\n",
      "33/33 [==============================] - 32s 966ms/step - loss: 0.2451 - accuracy: 0.9053 - val_loss: 0.2586 - val_accuracy: 0.9062\n",
      "Epoch 9/10\n",
      "33/33 [==============================] - 33s 1s/step - loss: 0.2148 - accuracy: 0.9290 - val_loss: 0.2395 - val_accuracy: 0.9312\n",
      "Epoch 10/10\n",
      "33/33 [==============================] - 33s 999ms/step - loss: 0.1997 - accuracy: 0.9223 - val_loss: 0.2265 - val_accuracy: 0.9187\n"
     ]
    },
    {
     "output_type": "display_data",
     "data": {
      "image/png": "[encoded data removed]",
      "text/plain": [
       "<Figure size 576x432 with 2 Axes>"
      ]
     },
     "metadata": {
      "needs_background": "light"
     }
    }
   ],
   "metadata": {}
  },
  {
   "cell_type": "code",
   "execution_count": 9,
   "source": [
    "test_dataset = test_dataset \\\r\n",
    "    .cache() \\\r\n",
    "    .batch(BATCH_SIZE)\r\n",
    "model.evaluate(test_dataset)"
   ],
   "outputs": [
    {
     "output_type": "stream",
     "name": "stdout",
     "text": [
      "4/4 [==============================] - 4s 945ms/step - loss: 0.2716 - accuracy: 0.9062\n"
     ]
    },
    {
     "output_type": "execute_result",
     "data": {
      "text/plain": [
       "[0.2716454565525055, 0.90625]"
      ]
     },
     "metadata": {},
     "execution_count": 9
    }
   ],
   "metadata": {}
  }
 ],
 "metadata": {
  "orig_nbformat": 4,
  "language_info": {
   "name": "python",
   "version": "3.7.9",
   "mimetype": "text/x-python",
   "codemirror_mode": {
    "name": "ipython",
    "version": 3
   },
   "pygments_lexer": "ipython3",
   "nbconvert_exporter": "python",
   "file_extension": ".py"
  },
  "kernelspec": {
   "name": "python3",
   "display_name": "Python 3.7.9 64-bit ('tf': venv)"
  },
  "interpreter": {
   "hash": "a8da867777bda7a36ba79ef652ca0450f4f134accc992c4581dd001533c4e60a"
  }
 },
 "nbformat": 4,
 "nbformat_minor": 2
}