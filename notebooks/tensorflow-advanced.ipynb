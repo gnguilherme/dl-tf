{
 "cells": [
  {
   "cell_type": "code",
   "execution_count": 1,
   "source": [
    "import tensorflow as tf\r\n",
    "from tensorflow.keras import Model\r\n",
    "from tensorflow.keras.layers import Dense, Flatten, Conv2D, Dropout, MaxPooling2D"
   ],
   "outputs": [],
   "metadata": {}
  },
  {
   "cell_type": "code",
   "execution_count": 2,
   "source": [
    "mnist = tf.keras.datasets.mnist\r\n",
    "\r\n",
    "(x_train, y_train), (x_test, y_test) = mnist.load_data()\r\n",
    "x_train, x_test = x_train / 255.0, x_test / 255.0\r\n",
    "\r\n",
    "x_train = x_train[..., tf.newaxis].astype(\"float32\")\r\n",
    "x_test = x_test[..., tf.newaxis].astype(\"float32\")"
   ],
   "outputs": [],
   "metadata": {}
  },
  {
   "cell_type": "code",
   "execution_count": 3,
   "source": [
    "train_ds = tf.data.Dataset.from_tensor_slices(\r\n",
    "    (x_train, y_train)).shuffle(10000).batch(32)\r\n",
    "\r\n",
    "test_ds = tf.data.Dataset.from_tensor_slices((x_test, y_test)).batch(32)\r\n"
   ],
   "outputs": [],
   "metadata": {}
  },
  {
   "cell_type": "code",
   "execution_count": 11,
   "source": [
    "class CustomModel(Model):\r\n",
    "  def __init__(self):\r\n",
    "    super(CustomModel, self).__init__()\r\n",
    "    self.conv1 = Conv2D(filters=32, kernel_size=3, activation=tf.nn.relu)\r\n",
    "    self.max_pool = MaxPooling2D(pool_size=(2, 2), strides=2)\r\n",
    "    self.flatten = Flatten()\r\n",
    "    self.fc1 = Dense(128, activation=tf.nn.relu)\r\n",
    "    self.dropout = Dropout(rate=0.2)\r\n",
    "    self.fc2 = Dense(10, activation=tf.nn.softmax)\r\n",
    "\r\n",
    "  def call(self, x):\r\n",
    "    x = self.conv1(x)\r\n",
    "    x = self.max_pool(x)\r\n",
    "    x = self.flatten(x)\r\n",
    "    x = self.fc1(x)\r\n",
    "    x = self.dropout(x)\r\n",
    "    \r\n",
    "    return self.fc2(x)\r\n",
    "\r\n",
    "model = CustomModel()"
   ],
   "outputs": [],
   "metadata": {}
  },
  {
   "cell_type": "code",
   "execution_count": 12,
   "source": [
    "loss_object = tf.keras.losses.SparseCategoricalCrossentropy(from_logits=False)\r\n",
    "optimizer = tf.keras.optimizers.Adam()"
   ],
   "outputs": [],
   "metadata": {}
  },
  {
   "cell_type": "code",
   "execution_count": 13,
   "source": [
    "train_loss = tf.keras.metrics.Mean(name='train_loss')\r\n",
    "train_accuracy = tf.keras.metrics.SparseCategoricalAccuracy(name='train_accuracy')\r\n",
    "\r\n",
    "test_loss = tf.keras.metrics.Mean(name='test_loss')\r\n",
    "test_accuracy = tf.keras.metrics.SparseCategoricalAccuracy(name='test_accuracy')"
   ],
   "outputs": [],
   "metadata": {}
  },
  {
   "cell_type": "code",
   "execution_count": 14,
   "source": [
    "@tf.function\r\n",
    "def train_step(images, labels):\r\n",
    "    with tf.GradientTape() as tape:\r\n",
    "        predictions = model(images, training=True)\r\n",
    "        loss = loss_object(labels, predictions)\r\n",
    "\r\n",
    "    gradients = tape.gradient(loss, model.trainable_variables)\r\n",
    "    optimizer.apply_gradients(zip(gradients, model.trainable_variables))\r\n",
    "\r\n",
    "    train_loss(loss)\r\n",
    "    train_accuracy(labels, predictions)"
   ],
   "outputs": [],
   "metadata": {}
  },
  {
   "cell_type": "code",
   "execution_count": 15,
   "source": [
    "@tf.function\r\n",
    "def test_step(images, labels):\r\n",
    "    predictions = model(images, training=False)\r\n",
    "    t_loss = loss_object(labels, predictions)\r\n",
    "\r\n",
    "    test_loss(t_loss)\r\n",
    "    test_accuracy(labels, predictions)"
   ],
   "outputs": [],
   "metadata": {}
  },
  {
   "cell_type": "code",
   "execution_count": 16,
   "source": [
    "@tf.function\r\n",
    "def reset_gradient():\r\n",
    "    train_loss.reset_states()\r\n",
    "    train_accuracy.reset_states()\r\n",
    "    \r\n",
    "    test_loss.reset_states()\r\n",
    "    test_accuracy.reset_states()"
   ],
   "outputs": [],
   "metadata": {}
  },
  {
   "cell_type": "code",
   "execution_count": 17,
   "source": [
    "EPOCHS = 5\r\n",
    "\r\n",
    "for epoch in range(EPOCHS):\r\n",
    "    reset_gradient()\r\n",
    "\r\n",
    "    for images, labels in train_ds:\r\n",
    "        train_step(images, labels)\r\n",
    "\r\n",
    "    for test_images, test_labels in test_ds:\r\n",
    "        test_step(test_images, test_labels)\r\n",
    "\r\n",
    "    print(\r\n",
    "        f'Epoch {epoch + 1}, '\r\n",
    "        f'Loss: {train_loss.result()}, '\r\n",
    "        f'Accuracy: {train_accuracy.result() * 100}, '\r\n",
    "        f'Test Loss: {test_loss.result()}, '\r\n",
    "        f'Test Accuracy: {test_accuracy.result() * 100}'\r\n",
    "    )\r\n"
   ],
   "outputs": [
    {
     "output_type": "stream",
     "name": "stdout",
     "text": [
      "Epoch 1, Loss: 0.18205764889717102, Accuracy: 94.6449966430664, Test Loss: 0.062325432896614075, Test Accuracy: 98.0199966430664\n",
      "Epoch 2, Loss: 0.06831832230091095, Accuracy: 97.93999481201172, Test Loss: 0.045215122401714325, Test Accuracy: 98.55999755859375\n",
      "Epoch 3, Loss: 0.0460178516805172, Accuracy: 98.54166412353516, Test Loss: 0.042453423142433167, Test Accuracy: 98.50999450683594\n",
      "Epoch 4, Loss: 0.03616693243384361, Accuracy: 98.8499984741211, Test Loss: 0.04066595435142517, Test Accuracy: 98.66999816894531\n",
      "Epoch 5, Loss: 0.027779053896665573, Accuracy: 99.086669921875, Test Loss: 0.038908425718545914, Test Accuracy: 98.68000030517578\n"
     ]
    }
   ],
   "metadata": {}
  },
  {
   "cell_type": "code",
   "execution_count": null,
   "source": [],
   "outputs": [],
   "metadata": {}
  }
 ],
 "metadata": {
  "orig_nbformat": 4,
  "language_info": {
   "name": "python",
   "version": "3.7.9",
   "mimetype": "text/x-python",
   "codemirror_mode": {
    "name": "ipython",
    "version": 3
   },
   "pygments_lexer": "ipython3",
   "nbconvert_exporter": "python",
   "file_extension": ".py"
  },
  "kernelspec": {
   "name": "python3",
   "display_name": "Python 3.7.9 64-bit ('tf': venv)"
  },
  "interpreter": {
   "hash": "a8da867777bda7a36ba79ef652ca0450f4f134accc992c4581dd001533c4e60a"
  }
 },
 "nbformat": 4,
 "nbformat_minor": 2
}